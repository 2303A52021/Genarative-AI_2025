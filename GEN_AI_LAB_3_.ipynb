{
  "nbformat": 4,
  "nbformat_minor": 0,
  "metadata": {
    "colab": {
      "provenance": [],
      "authorship_tag": "ABX9TyP0x8WUPCJZKyRnYo4rIvcI",
      "include_colab_link": true
    },
    "kernelspec": {
      "name": "python3",
      "display_name": "Python 3"
    },
    "language_info": {
      "name": "python"
    }
  },
  "cells": [
    {
      "cell_type": "markdown",
      "metadata": {
        "id": "view-in-github",
        "colab_type": "text"
      },
      "source": [
        "<a href=\"https://colab.research.google.com/github/2303A52021/Genarative-AI_2025/blob/main/GEN_AI_LAB_3_.ipynb\" target=\"_parent\"><img src=\"https://colab.research.google.com/assets/colab-badge.svg\" alt=\"Open In Colab\"/></a>"
      ]
    },
    {
      "cell_type": "markdown",
      "source": [
        "1 QUESTION"
      ],
      "metadata": {
        "id": "QiwRmla7J92o"
      }
    },
    {
      "cell_type": "code",
      "execution_count": 1,
      "metadata": {
        "id": "bL6sxPKb_rnQ",
        "colab": {
          "base_uri": "https://localhost:8080/"
        },
        "outputId": "c1ab8721-1388-48ee-cceb-87fc9b45d7ed"
      },
      "outputs": [
        {
          "output_type": "stream",
          "name": "stdout",
          "text": [
            "The value of x at which f(x) is minimum: 0.0\n"
          ]
        }
      ],
      "source": [
        "def f(x):\n",
        "    return 5*x**4 + 3*x**2 + 10\n",
        "\n",
        "def df(x):\n",
        "    return 20*x**3 + 6*x\n",
        "\n",
        "def gradient_descent(learning_rate, num_iterations):\n",
        "    x = 0\n",
        "    for i in range(num_iterations):\n",
        "        gradient = df(x)\n",
        "        x = x - learning_rate * gradient\n",
        "    return x\n",
        "\n",
        "learning_rate = 0.01\n",
        "num_iterations = 1000\n",
        "min_x = gradient_descent(learning_rate, num_iterations)\n",
        "print(\"The value of x at which f(x) is minimum:\", min_x)\n"
      ]
    },
    {
      "cell_type": "markdown",
      "source": [
        "2 QUESTION"
      ],
      "metadata": {
        "id": "c-w_PFGBKEYg"
      }
    },
    {
      "cell_type": "code",
      "source": [
        "import math\n",
        "\n",
        "def g(x, y):\n",
        "    return 3*x**2 + 5*math.exp(-y) + 10\n",
        "\n",
        "def dg_dx(x, y):\n",
        "    return 6*x\n",
        "\n",
        "def dg_dy(x, y):\n",
        "    return -5*math.exp(-y)\n",
        "\n",
        "def gradient_descent_2d(learning_rate, num_iterations):\n",
        "    x, y = 0, 0\n",
        "    for i in range(num_iterations):\n",
        "        gradient_x = dg_dx(x, y)\n",
        "        gradient_y = dg_dy(x, y)\n",
        "        x = x - learning_rate * gradient_x\n",
        "        y = y - learning_rate * gradient_y\n",
        "    return x, y\n",
        "\n",
        "learning_rate = 0.01\n",
        "num_iterations = 1000\n",
        "min_x, min_y = gradient_descent_2d(learning_rate, num_iterations)\n",
        "print(\"The values of x and y at which g(x, y) is minimum:\", min_x, min_y)\n"
      ],
      "metadata": {
        "colab": {
          "base_uri": "https://localhost:8080/"
        },
        "id": "6_nVENIxC5IJ",
        "outputId": "ce504f0f-6bf9-4f30-b4bb-e25478d0ae48"
      },
      "execution_count": 2,
      "outputs": [
        {
          "output_type": "stream",
          "name": "stdout",
          "text": [
            "The values of x and y at which g(x, y) is minimum: 0.0 3.9337602416246904\n"
          ]
        }
      ]
    },
    {
      "cell_type": "markdown",
      "source": [
        "3 QUESTION"
      ],
      "metadata": {
        "id": "HNlR64tfKGcq"
      }
    },
    {
      "cell_type": "code",
      "source": [
        "import math\n",
        "\n",
        "def z(x):\n",
        "    return 1 / (1 + math.exp(-x))\n",
        "\n",
        "def dz(x):\n",
        "    return z(x) * (1 - z(x))\n",
        "\n",
        "def gradient_descent_sigmoid(learning_rate, num_iterations):\n",
        "    x = 0\n",
        "    for i in range(num_iterations):\n",
        "        gradient = dz(x)\n",
        "        x = x - learning_rate * gradient\n",
        "    return x\n",
        "\n",
        "learning_rate = 0.01\n",
        "num_iterations = 1000\n",
        "min_x = gradient_descent_sigmoid(learning_rate, num_iterations)\n",
        "print(\"The value of x at which z(x) is minimum:\", min_x)\n"
      ],
      "metadata": {
        "colab": {
          "base_uri": "https://localhost:8080/"
        },
        "id": "qMIzbu2UDAtT",
        "outputId": "0c5cee47-6c4c-41cc-b9a1-13443a4a1069"
      },
      "execution_count": 3,
      "outputs": [
        {
          "output_type": "stream",
          "name": "stdout",
          "text": [
            "The value of x at which z(x) is minimum: -1.8618354629020137\n"
          ]
        }
      ]
    },
    {
      "cell_type": "markdown",
      "source": [
        "4 QUESTION"
      ],
      "metadata": {
        "id": "yHIYXjnpKIkh"
      }
    },
    {
      "cell_type": "code",
      "source": [
        "def predicted_output(input_value, M, C):\n",
        "    return input_value * M + C\n",
        "\n",
        "def square_error(input_value, M, C, expected_output):\n",
        "    predicted = predicted_output(input_value, M, C)\n",
        "    return (expected_output - predicted) ** 2\n",
        "\n",
        "def se_partial_M(input_value, M, C, expected_output):\n",
        "    predicted = predicted_output(input_value, M, C)\n",
        "    return -2 * input_value * (expected_output - predicted)\n",
        "\n",
        "def se_partial_C(input_value, M, C, expected_output):\n",
        "    predicted = predicted_output(input_value, M, C)\n",
        "    return -2 * (expected_output - predicted)\n",
        "\n",
        "def gradient_descent(input_value, expected_output, learning_rate, tolerance, max_iterations):\n",
        "    M, C = 0, 0\n",
        "    for iteration in range(max_iterations):\n",
        "        grad_M = se_partial_M(input_value, M, C, expected_output)\n",
        "        grad_C = se_partial_C(input_value, M, C, expected_output)\n",
        "\n",
        "        new_M = M - learning_rate * grad_M\n",
        "        new_C = C - learning_rate * grad_C\n",
        "        if abs(new_M - M) < tolerance and abs(new_C - C) < tolerance:\n",
        "            print(f\"Converged in {iteration + 1} iterations.\")\n",
        "            return new_M, new_C\n",
        "\n",
        "        M, C = new_M, new_C\n",
        "\n",
        "    print(\"Reached maximum iterations without full convergence.\")\n",
        "    return M, C\n",
        "\n",
        "input_value = 2\n",
        "expected_output = 0.5\n",
        "learning_rate = 0.01\n",
        "tolerance = 1e-6\n",
        "max_iterations = 10000\n",
        "optimal_M, optimal_C = gradient_descent(input_value, expected_output, learning_rate, tolerance, max_iterations)\n",
        "print(f\"Optimal values: M = {optimal_M:.6f}, C = {optimal_C:.6f}\")\n",
        "predicted = predicted_output(input_value, optimal_M, optimal_C)\n",
        "print(f\"Predicted output: {predicted:.6f}\")\n",
        "print(f\"Square Error: {square_error(input_value, optimal_M, optimal_C, expected_output):.6f}\")"
      ],
      "metadata": {
        "colab": {
          "base_uri": "https://localhost:8080/"
        },
        "id": "XqJ_9lFBKKfU",
        "outputId": "4001bb2a-9f3e-4cfd-a6ef-5539eb534321"
      },
      "execution_count": 4,
      "outputs": [
        {
          "output_type": "stream",
          "name": "stdout",
          "text": [
            "Converged in 95 iterations.\n",
            "Optimal values: M = 0.199991, C = 0.099996\n",
            "Predicted output: 0.499978\n",
            "Square Error: 0.000000\n"
          ]
        }
      ]
    }
  ]
}