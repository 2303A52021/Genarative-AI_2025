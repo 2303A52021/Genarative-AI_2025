{
  "nbformat": 4,
  "nbformat_minor": 0,
  "metadata": {
    "colab": {
      "provenance": [],
      "authorship_tag": "ABX9TyOihlrUeormmwjQl6Izriqf",
      "include_colab_link": true
    },
    "kernelspec": {
      "name": "python3",
      "display_name": "Python 3"
    },
    "language_info": {
      "name": "python"
    }
  },
  "cells": [
    {
      "cell_type": "markdown",
      "metadata": {
        "id": "view-in-github",
        "colab_type": "text"
      },
      "source": [
        "<a href=\"https://colab.research.google.com/github/2303A52021/Genarative-AI_2025/blob/main/GEN_AI_LAB_4.ipynb\" target=\"_parent\"><img src=\"https://colab.research.google.com/assets/colab-badge.svg\" alt=\"Open In Colab\"/></a>"
      ]
    },
    {
      "cell_type": "markdown",
      "source": [
        "QUESTION:1"
      ],
      "metadata": {
        "id": "9wZJHPmyKaSQ"
      }
    },
    {
      "cell_type": "code",
      "execution_count": 3,
      "metadata": {
        "colab": {
          "base_uri": "https://localhost:8080/"
        },
        "id": "TadLTnReAbWv",
        "outputId": "37683fa1-3b5e-4ab9-908b-2e9438c4707b"
      },
      "outputs": [
        {
          "output_type": "stream",
          "name": "stdout",
          "text": [
            "Mean Squared Error on Training Data:  6.461155629091917e-07\n",
            "Mean Squared Error on Test Data:  3.355917456997702e-06\n",
            "Enter three numbers separated by space: 0.6 0.7 0.8\n",
            "Predicted output:  [0.44169033]\n"
          ]
        }
      ],
      "source": [
        "import numpy as np\n",
        "X_train = np.array([[0.1, 0.2, 0.3],\n",
        "                     [0.2, 0.3, 0.4],\n",
        "                     [0.3, 0.4, 0.5],\n",
        "                     [0.5, 0.6, 0.7],\n",
        "                     [0.1, 0.3, 0.5],\n",
        "                     [0.2, 0.4, 0.6],\n",
        "                     [0.3, 0.5, 0.7],\n",
        "                     [0.4, 0.6, 0.8],\n",
        "                     [0.5, 0.7, 0.1]])\n",
        "\n",
        "y_train = np.array([0.14, 0.20, 0.26, 0.38, 0.22, 0.28, 0.34, 0.40, 0.22])\n",
        "X_test = np.array([[0.6, 0.7, 0.8],\n",
        "                    [0.7, 0.8, 0.9]])\n",
        "y_test = np.array([0.44, 0.50])\n",
        "np.random.seed(0)\n",
        "weights = np.random.rand(3)\n",
        "bias = np.random.rand(1)\n",
        "learning_rate = 0.01\n",
        "epochs = 1000\n",
        "for epoch in range(epochs):\n",
        "    output = np.dot(X_train, weights) + bias\n",
        "    error = output - y_train\n",
        "    mse = np.mean(error ** 2)\n",
        "    d_output = 2 * error\n",
        "    d_weights = np.dot(X_train.T, d_output)\n",
        "    d_bias = np.sum(d_output, axis=0, keepdims=True)\n",
        "    weights -= learning_rate * d_weights\n",
        "    bias -= learning_rate * d_bias\n",
        "test_output = np.dot(X_test, weights) + bias\n",
        "test_mse = np.mean((test_output - y_test) ** 2)\n",
        "print(\"Mean Squared Error on Training Data: \", mse)\n",
        "print(\"Mean Squared Error on Test Data: \", test_mse)\n",
        "user_input = np.array([float(x) for x in input(\"Enter three numbers separated by space: \").split()])\n",
        "prediction = np.dot(user_input, weights) + bias\n",
        "print(\"Predicted output: \", prediction)"
      ]
    },
    {
      "cell_type": "markdown",
      "source": [
        "QUESTION : 2"
      ],
      "metadata": {
        "id": "t7VxN8n2Kf_Z"
      }
    },
    {
      "cell_type": "code",
      "source": [
        "import numpy as np\n",
        "X_train = np.array([[0.1, 0.2, 0.3],\n",
        "                     [0.2, 0.3, 0.4],\n",
        "                     [0.3, 0.4, 0.5],\n",
        "                     [0.5, 0.6, 0.7],\n",
        "                     [0.1, 0.3, 0.5],\n",
        "                     [0.2, 0.4, 0.6],\n",
        "                     [0.3, 0.5, 0.7],\n",
        "                     [0.4, 0.6, 0.8],\n",
        "                     [0.5, 0.7, 0.1]])\n",
        "\n",
        "y_train = np.array([0.14, 0.20, 0.26, 0.38, 0.22, 0.28, 0.34, 0.40, 0.22])\n",
        "def sigmoid(x):\n",
        "    return 1 / (1 + np.exp(-x))\n",
        "def sigmoid_derivative(x):\n",
        "    return x * (1 - x)\n",
        "np.random.seed(0)\n",
        "weights = np.random.rand(3)\n",
        "bias = np.random.rand(1)\n",
        "learning_rate = 0.01\n",
        "epochs = 1000\n",
        "for epoch in range(epochs):\n",
        "    output = sigmoid(np.dot(X_train, weights) + bias)\n",
        "    error = output - y_train\n",
        "    mse = np.mean(error ** 2)\n",
        "    d_output = error * sigmoid_derivative(output)\n",
        "    d_weights = np.dot(X_train.T, d_output)\n",
        "    d_bias = np.sum(d_output, axis=0, keepdims=True)\n",
        "    weights -= learning_rate * d_weights\n",
        "    bias -= learning_rate * d_bias\n",
        "\n",
        "print(\"Final Weights: \", weights)\n",
        "print(\"Final Bias: \", bias)\n",
        "print(\"Mean Squared Error: \", mse)"
      ],
      "metadata": {
        "colab": {
          "base_uri": "https://localhost:8080/"
        },
        "id": "ojNgNEzTHfd4",
        "outputId": "a701b4ad-7e3b-4ddb-93c8-d7be99ca370a"
      },
      "execution_count": 4,
      "outputs": [
        {
          "output_type": "stream",
          "name": "stdout",
          "text": [
            "Final Weights:  [0.19176139 0.12542925 0.04142155]\n",
            "Final Bias:  [-1.07354759]\n",
            "Mean Squared Error:  0.005706532311430175\n"
          ]
        }
      ]
    }
  ]
}